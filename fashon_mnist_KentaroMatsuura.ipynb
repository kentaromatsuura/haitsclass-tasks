{
 "cells": [
  {
   "cell_type": "code",
   "execution_count": 97,
   "metadata": {},
   "outputs": [
    {
     "name": "stdout",
     "output_type": "stream",
     "text": [
      "Requirement already up-to-date: chainer==2.0 in /Users/matuura/.pyenv/versions/anaconda3-5.0.0/lib/python3.6/site-packages\n",
      "Requirement already up-to-date: protobuf>=2.6.0 in /Users/matuura/.pyenv/versions/anaconda3-5.0.0/lib/python3.6/site-packages (from chainer==2.0)\n",
      "Requirement already up-to-date: numpy>=1.9.0 in /Users/matuura/.pyenv/versions/anaconda3-5.0.0/lib/python3.6/site-packages (from chainer==2.0)\n",
      "Requirement already up-to-date: six>=1.9.0 in /Users/matuura/.pyenv/versions/anaconda3-5.0.0/lib/python3.6/site-packages (from chainer==2.0)\n",
      "Requirement already up-to-date: nose in /Users/matuura/.pyenv/versions/anaconda3-5.0.0/lib/python3.6/site-packages (from chainer==2.0)\n",
      "Requirement already up-to-date: filelock in /Users/matuura/.pyenv/versions/anaconda3-5.0.0/lib/python3.6/site-packages (from chainer==2.0)\n",
      "Collecting setuptools (from protobuf>=2.6.0->chainer==2.0)\n",
      "  Downloading setuptools-36.7.2-py2.py3-none-any.whl (482kB)\n",
      "\u001b[K    100% |████████████████████████████████| 491kB 329kB/s ta 0:00:01   16% |█████▍                          | 81kB 118kB/s eta 0:00:04\n",
      "\u001b[?25hInstalling collected packages: setuptools\n",
      "  Found existing installation: setuptools 36.6.0\n",
      "    Uninstalling setuptools-36.6.0:\n",
      "      Successfully uninstalled setuptools-36.6.0\n",
      "Successfully installed setuptools-36.7.2\n"
     ]
    }
   ],
   "source": [
    "! pip install -U chainer==2.0"
   ]
  },
  {
   "cell_type": "code",
   "execution_count": 98,
   "metadata": {
    "collapsed": true
   },
   "outputs": [],
   "source": [
    "import numpy as np\n",
    "import matplotlib.pyplot as plt\n",
    "% matplotlib inline\n",
    "\n",
    "import chainer\n",
    "import chainer.functions as F  \n",
    "import chainer.links as L               \n",
    "from chainer import computational_graph \n",
    "from chainer import serializers     "
   ]
  },
  {
   "cell_type": "code",
   "execution_count": 99,
   "metadata": {
    "collapsed": true
   },
   "outputs": [],
   "source": [
    "def load_mnist(path, kind='train'):\n",
    "    import os\n",
    "    import gzip\n",
    "    import numpy as np\n",
    "\n",
    "    \"\"\"Load MNIST data from `path`\"\"\"\n",
    "    labels_path = os.path.join(path,\n",
    "                               '%s-labels-idx1-ubyte.gz'\n",
    "                               % kind)\n",
    "    images_path = os.path.join(path,\n",
    "                               '%s-images-idx3-ubyte.gz'\n",
    "                               % kind)\n",
    "\n",
    "    with gzip.open(labels_path, 'rb') as lbpath:\n",
    "        labels = np.frombuffer(lbpath.read(), dtype=np.uint8,\n",
    "                               offset=8)\n",
    "\n",
    "    with gzip.open(images_path, 'rb') as imgpath:\n",
    "        images = np.frombuffer(imgpath.read(), dtype=np.uint8,\n",
    "                               offset=16).reshape(len(labels), 784)\n",
    "\n",
    "    return images, labels"
   ]
  },
  {
   "cell_type": "code",
   "execution_count": 100,
   "metadata": {
    "collapsed": true
   },
   "outputs": [],
   "source": [
    "from utils import mnist_reader\n",
    "X_train, y_train = mnist_reader.load_mnist('data/fashion', kind='train')\n",
    "X_test, y_test = mnist_reader.load_mnist('data/fashion', kind='t10k')"
   ]
  },
  {
   "cell_type": "code",
   "execution_count": 101,
   "metadata": {},
   "outputs": [
    {
     "data": {
      "text/plain": [
       "60000"
      ]
     },
     "execution_count": 101,
     "metadata": {},
     "output_type": "execute_result"
    }
   ],
   "source": [
    "len(y_train)"
   ]
  },
  {
   "cell_type": "code",
   "execution_count": 122,
   "metadata": {
    "collapsed": true
   },
   "outputs": [],
   "source": [
    "X_train = X_train.astype(np.float32)\n",
    "y_train= y_train.astype(np.int32)\n",
    "X_test = X_test.astype(np.float32)\n",
    "y_test= y_test.astype(np.int32)"
   ]
  },
  {
   "cell_type": "code",
   "execution_count": 103,
   "metadata": {},
   "outputs": [
    {
     "data": {
      "text/plain": [
       "array([9, 0, 0, ..., 3, 0, 5], dtype=int32)"
      ]
     },
     "execution_count": 103,
     "metadata": {},
     "output_type": "execute_result"
    }
   ],
   "source": [
    "y_train"
   ]
  },
  {
   "cell_type": "code",
   "execution_count": 116,
   "metadata": {},
   "outputs": [
    {
     "data": {
      "text/plain": [
       "array([   0.,    0.,    0.,    0.,    0.,    0.,    0.,    0.,    0.,\n",
       "          0.,    0.,    0.,    0.,    0.,    0.,    0.,    0.,    0.,\n",
       "          0.,    0.,    0.,    0.,    0.,    0.,    0.,    0.,    0.,\n",
       "          0.,    0.,    0.,    0.,    0.,    0.,    0.,    0.,    0.,\n",
       "          0.,    0.,    0.,    0.,    0.,    0.,    0.,    0.,    0.,\n",
       "          0.,    0.,    0.,    0.,    0.,    0.,    0.,    0.,    0.,\n",
       "          0.,    0.,    0.,    0.,    0.,    0.,    0.,    0.,    0.,\n",
       "          0.,    0.,    0.,    0.,    0.,    0.,    0.,    0.,    0.,\n",
       "          0.,    0.,    0.,    0.,    0.,    0.,    0.,    0.,    0.,\n",
       "          0.,    0.,    0.,    0.,    0.,    0.,    0.,    0.,    0.,\n",
       "          0.,    0.,    0.,    0.,    0.,    0.,    1.,    0.,    0.,\n",
       "         13.,   73.,    0.,    0.,    1.,    4.,    0.,    0.,    0.,\n",
       "          0.,    1.,    1.,    0.,    0.,    0.,    0.,    0.,    0.,\n",
       "          0.,    0.,    0.,    0.,    0.,    0.,    0.,    3.,    0.,\n",
       "         36.,  136.,  127.,   62.,   54.,    0.,    0.,    0.,    1.,\n",
       "          3.,    4.,    0.,    0.,    3.,    0.,    0.,    0.,    0.,\n",
       "          0.,    0.,    0.,    0.,    0.,    0.,    0.,    0.,    6.,\n",
       "          0.,  102.,  204.,  176.,  134.,  144.,  123.,   23.,    0.,\n",
       "          0.,    0.,    0.,   12.,   10.,    0.,    0.,    0.,    0.,\n",
       "          0.,    0.,    0.,    0.,    0.,    0.,    0.,    0.,    0.,\n",
       "          0.,    0.,  155.,  236.,  207.,  178.,  107.,  156.,  161.,\n",
       "        109.,   64.,   23.,   77.,  130.,   72.,   15.,    0.,    0.,\n",
       "          0.,    0.,    0.,    0.,    0.,    0.,    0.,    0.,    0.,\n",
       "          1.,    0.,   69.,  207.,  223.,  218.,  216.,  216.,  163.,\n",
       "        127.,  121.,  122.,  146.,  141.,   88.,  172.,   66.,    0.,\n",
       "          0.,    0.,    0.,    0.,    0.,    0.,    0.,    0.,    1.,\n",
       "          1.,    1.,    0.,  200.,  232.,  232.,  233.,  229.,  223.,\n",
       "        223.,  215.,  213.,  164.,  127.,  123.,  196.,  229.,    0.,\n",
       "          0.,    0.,    0.,    0.,    0.,    0.,    0.,    0.,    0.,\n",
       "          0.,    0.,    0.,    0.,  183.,  225.,  216.,  223.,  228.,\n",
       "        235.,  227.,  224.,  222.,  224.,  221.,  223.,  245.,  173.,\n",
       "          0.,    0.,    0.,    0.,    0.,    0.,    0.,    0.,    0.,\n",
       "          0.,    0.,    0.,    0.,    0.,  193.,  228.,  218.,  213.,\n",
       "        198.,  180.,  212.,  210.,  211.,  213.,  223.,  220.,  243.,\n",
       "        202.,    0.,    0.,    0.,    0.,    0.,    0.,    0.,    0.,\n",
       "          0.,    0.,    1.,    3.,    0.,   12.,  219.,  220.,  212.,\n",
       "        218.,  192.,  169.,  227.,  208.,  218.,  224.,  212.,  226.,\n",
       "        197.,  209.,   52.,    0.,    0.,    0.,    0.,    0.,    0.,\n",
       "          0.,    0.,    0.,    0.,    6.,    0.,   99.,  244.,  222.,\n",
       "        220.,  218.,  203.,  198.,  221.,  215.,  213.,  222.,  220.,\n",
       "        245.,  119.,  167.,   56.,    0.,    0.,    0.,    0.,    0.,\n",
       "          0.,    0.,    0.,    0.,    4.,    0.,    0.,   55.,  236.,\n",
       "        228.,  230.,  228.,  240.,  232.,  213.,  218.,  223.,  234.,\n",
       "        217.,  217.,  209.,   92.,    0.,    0.,    0.,    1.,    4.,\n",
       "          6.,    7.,    2.,    0.,    0.,    0.,    0.,    0.,  237.,\n",
       "        226.,  217.,  223.,  222.,  219.,  222.,  221.,  216.,  223.,\n",
       "        229.,  215.,  218.,  255.,   77.,    0.,    0.,    3.,    0.,\n",
       "          0.,    0.,    0.,    0.,    0.,    0.,   62.,  145.,  204.,\n",
       "        228.,  207.,  213.,  221.,  218.,  208.,  211.,  218.,  224.,\n",
       "        223.,  219.,  215.,  224.,  244.,  159.,    0.,    0.,    0.,\n",
       "          0.,    0.,   18.,   44.,   82.,  107.,  189.,  228.,  220.,\n",
       "        222.,  217.,  226.,  200.,  205.,  211.,  230.,  224.,  234.,\n",
       "        176.,  188.,  250.,  248.,  233.,  238.,  215.,    0.,    0.,\n",
       "         57.,  187.,  208.,  224.,  221.,  224.,  208.,  204.,  214.,\n",
       "        208.,  209.,  200.,  159.,  245.,  193.,  206.,  223.,  255.,\n",
       "        255.,  221.,  234.,  221.,  211.,  220.,  232.,  246.,    0.,\n",
       "          3.,  202.,  228.,  224.,  221.,  211.,  211.,  214.,  205.,\n",
       "        205.,  205.,  220.,  240.,   80.,  150.,  255.,  229.,  221.,\n",
       "        188.,  154.,  191.,  210.,  204.,  209.,  222.,  228.,  225.,\n",
       "          0.,   98.,  233.,  198.,  210.,  222.,  229.,  229.,  234.,\n",
       "        249.,  220.,  194.,  215.,  217.,  241.,   65.,   73.,  106.,\n",
       "        117.,  168.,  219.,  221.,  215.,  217.,  223.,  223.,  224.,\n",
       "        229.,   29.,   75.,  204.,  212.,  204.,  193.,  205.,  211.,\n",
       "        225.,  216.,  185.,  197.,  206.,  198.,  213.,  240.,  195.,\n",
       "        227.,  245.,  239.,  223.,  218.,  212.,  209.,  222.,  220.,\n",
       "        221.,  230.,   67.,   48.,  203.,  183.,  194.,  213.,  197.,\n",
       "        185.,  190.,  194.,  192.,  202.,  214.,  219.,  221.,  220.,\n",
       "        236.,  225.,  216.,  199.,  206.,  186.,  181.,  177.,  172.,\n",
       "        181.,  205.,  206.,  115.,    0.,  122.,  219.,  193.,  179.,\n",
       "        171.,  183.,  196.,  204.,  210.,  213.,  207.,  211.,  210.,\n",
       "        200.,  196.,  194.,  191.,  195.,  191.,  198.,  192.,  176.,\n",
       "        156.,  167.,  177.,  210.,   92.,    0.,    0.,   74.,  189.,\n",
       "        212.,  191.,  175.,  172.,  175.,  181.,  185.,  188.,  189.,\n",
       "        188.,  193.,  198.,  204.,  209.,  210.,  210.,  211.,  188.,\n",
       "        188.,  194.,  192.,  216.,  170.,    0.,    2.,    0.,    0.,\n",
       "          0.,   66.,  200.,  222.,  237.,  239.,  242.,  246.,  243.,\n",
       "        244.,  221.,  220.,  193.,  191.,  179.,  182.,  182.,  181.,\n",
       "        176.,  166.,  168.,   99.,   58.,    0.,    0.,    0.,    0.,\n",
       "          0.,    0.,    0.,    0.,    0.,   40.,   61.,   44.,   72.,\n",
       "         41.,   35.,    0.,    0.,    0.,    0.,    0.,    0.,    0.,\n",
       "          0.,    0.,    0.,    0.,    0.,    0.,    0.,    0.,    0.,\n",
       "          0.,    0.,    0.,    0.,    0.,    0.,    0.,    0.,    0.,\n",
       "          0.,    0.,    0.,    0.,    0.,    0.,    0.,    0.,    0.,\n",
       "          0.,    0.,    0.,    0.,    0.,    0.,    0.,    0.,    0.,\n",
       "          0.,    0.,    0.,    0.,    0.,    0.,    0.,    0.,    0.,\n",
       "          0.,    0.,    0.,    0.,    0.,    0.,    0.,    0.,    0.,\n",
       "          0.,    0.,    0.,    0.,    0.,    0.,    0.,    0.,    0.,    0.], dtype=float32)"
      ]
     },
     "execution_count": 116,
     "metadata": {},
     "output_type": "execute_result"
    }
   ],
   "source": [
    "X_train[0]"
   ]
  },
  {
   "cell_type": "code",
   "execution_count": 125,
   "metadata": {},
   "outputs": [
    {
     "data": {
      "text/plain": [
       "9"
      ]
     },
     "execution_count": 125,
     "metadata": {},
     "output_type": "execute_result"
    }
   ],
   "source": [
    "y_train[0]"
   ]
  },
  {
   "cell_type": "code",
   "execution_count": 123,
   "metadata": {},
   "outputs": [
    {
     "data": {
      "text/plain": [
       "255.0"
      ]
     },
     "execution_count": 123,
     "metadata": {},
     "output_type": "execute_result"
    }
   ],
   "source": [
    "X_train.max()\n",
    "X_test.max()"
   ]
  },
  {
   "cell_type": "code",
   "execution_count": 127,
   "metadata": {},
   "outputs": [],
   "source": [
    "X_train /= X_train.max()"
   ]
  },
  {
   "cell_type": "code",
   "execution_count": 128,
   "metadata": {
    "collapsed": true
   },
   "outputs": [],
   "source": [
    "X_test /= X_test.max()"
   ]
  },
  {
   "cell_type": "code",
   "execution_count": 129,
   "metadata": {},
   "outputs": [
    {
     "data": {
      "text/plain": [
       "(60000, 784)"
      ]
     },
     "execution_count": 129,
     "metadata": {},
     "output_type": "execute_result"
    }
   ],
   "source": [
    "X_train.shape"
   ]
  },
  {
   "cell_type": "code",
   "execution_count": 130,
   "metadata": {},
   "outputs": [
    {
     "data": {
      "text/plain": [
       "(60000,)"
      ]
     },
     "execution_count": 130,
     "metadata": {},
     "output_type": "execute_result"
    }
   ],
   "source": [
    "y_train.shape"
   ]
  },
  {
   "cell_type": "code",
   "execution_count": 131,
   "metadata": {
    "collapsed": true
   },
   "outputs": [],
   "source": [
    "def draw_digit(data):\n",
    "    \"\"\"数値の行列データを画像表示\"\"\"\n",
    "    plt.figure(figsize=(3, 3))\n",
    "    X, Y = np.meshgrid(range(28),range(28))\n",
    "    Z = data.reshape(28, 28)\n",
    "    Z = Z[::-1,:]\n",
    "    plt.pcolor(X, Y, Z)\n",
    "    plt.tick_params(labelbottom=\"off\")\n",
    "    plt.tick_params(labelleft=\"off\")\n",
    "    plt.gray()\n",
    "    plt.show()"
   ]
  },
  {
   "cell_type": "code",
   "execution_count": 132,
   "metadata": {},
   "outputs": [
    {
     "data": {
      "image/png": "[encoded data removed]",
      "text/plain": [
       "<matplotlib.figure.Figure at 0x1101ce198>"
      ]
     },
     "metadata": {},
     "output_type": "display_data"
    }
   ],
   "source": [
    "index = 50000\n",
    "draw_digit(X_train[index])"
   ]
  },
  {
   "cell_type": "code",
   "execution_count": 133,
   "metadata": {},
   "outputs": [
    {
     "data": {
      "text/plain": [
       "9"
      ]
     },
     "execution_count": 133,
     "metadata": {},
     "output_type": "execute_result"
    }
   ],
   "source": [
    "y_train[index]"
   ]
  },
  {
   "cell_type": "code",
   "execution_count": 134,
   "metadata": {
    "collapsed": true
   },
   "outputs": [],
   "source": [
    "class MLP(chainer.Chain):\n",
    "    ''' ニューラルネットの構造を定義'''\n",
    "    def __init__(self):\n",
    "        super(MLP, self).__init__()\n",
    "        with self.init_scope():\n",
    "            self.l1=L.Linear(784, 900)  # 第1層からの入力784､第2層への出力900\n",
    "            self.l2=L.Linear(900, 1000) # 第2層からの入力600､第3層への出力1000\n",
    "            self.l3=L.Linear(1000, 500) # 第3層からの入力1000､第4層への出力500\n",
    "            self.l4=L.Linear(500, 10)   # 第4層からの入力500､出力層への出力10\n",
    "    ''' ニューラルネットの計算規則を定義'''\n",
    "    def __call__(self, X):\n",
    "        h1 = F.relu(self.l1(X))  # 1つめの隠れ層からの出力を計算\n",
    "        h2 = F.relu(self.l2(h1)) # 2つめの隠れ層からの出力を計算\n",
    "        h3 = F.relu(self.l3(h2)) # 3つめの隠れ層からの出力を計算\n",
    "        return self.l4(h3)       # 出力層への入力を返す"
   ]
  },
  {
   "cell_type": "code",
   "execution_count": 135,
   "metadata": {},
   "outputs": [],
   "source": [
    "model = L.Classifier(MLP())"
   ]
  },
  {
   "cell_type": "code",
   "execution_count": 136,
   "metadata": {
    "collapsed": true
   },
   "outputs": [],
   "source": [
    "gpu = -1 "
   ]
  },
  {
   "cell_type": "code",
   "execution_count": 137,
   "metadata": {
    "collapsed": true
   },
   "outputs": [],
   "source": [
    "optimizer = chainer.optimizers.SGD()\n",
    "optimizer.setup(model)   "
   ]
  },
  {
   "cell_type": "code",
   "execution_count": 138,
   "metadata": {
    "collapsed": true
   },
   "outputs": [],
   "source": [
    "batch_size = 100\n",
    "n_epoch = 20"
   ]
  },
  {
   "cell_type": "code",
   "execution_count": 139,
   "metadata": {
    "collapsed": true
   },
   "outputs": [],
   "source": [
    "from chainer.datasets import tuple_dataset\n",
    "from chainer import iterators, training\n",
    "from chainer.training import extensions"
   ]
  },
  {
   "cell_type": "code",
   "execution_count": 140,
   "metadata": {
    "collapsed": true
   },
   "outputs": [],
   "source": [
    "train = tuple_dataset.TupleDataset(X_train, y_train)"
   ]
  },
  {
   "cell_type": "code",
   "execution_count": 141,
   "metadata": {
    "collapsed": true
   },
   "outputs": [],
   "source": [
    "train_iter = iterators.SerialIterator(train, batch_size=batch_size, shuffle=True)"
   ]
  },
  {
   "cell_type": "code",
   "execution_count": 142,
   "metadata": {
    "collapsed": true
   },
   "outputs": [],
   "source": [
    "updater = training.StandardUpdater(train_iter, optimizer, device=gpu)"
   ]
  },
  {
   "cell_type": "code",
   "execution_count": 143,
   "metadata": {
    "collapsed": true
   },
   "outputs": [],
   "source": [
    "trainer = training.Trainer(updater, (n_epoch,'epoch'), out='result')"
   ]
  },
  {
   "cell_type": "code",
   "execution_count": 144,
   "metadata": {
    "collapsed": true
   },
   "outputs": [],
   "source": [
    "test = tuple_dataset.TupleDataset(X_test,y_test)"
   ]
  },
  {
   "cell_type": "code",
   "execution_count": 145,
   "metadata": {
    "collapsed": true
   },
   "outputs": [],
   "source": [
    "test_iter = iterators.SerialIterator(test, batch_size=batch_size ,shuffle=False, repeat=False)"
   ]
  },
  {
   "cell_type": "code",
   "execution_count": 146,
   "metadata": {
    "collapsed": true
   },
   "outputs": [],
   "source": [
    "trainer.extend(extensions.Evaluator(test_iter, model))"
   ]
  },
  {
   "cell_type": "code",
   "execution_count": 147,
   "metadata": {
    "collapsed": true
   },
   "outputs": [],
   "source": [
    "trainer.extend(extensions.LogReport())"
   ]
  },
  {
   "cell_type": "code",
   "execution_count": 148,
   "metadata": {
    "collapsed": true
   },
   "outputs": [],
   "source": [
    "trainer.extend(extensions.PrintReport(['epoch', 'main/loss', 'main/accuracy', 'validation/main/loss','validation/main/accuracy']))"
   ]
  },
  {
   "cell_type": "code",
   "execution_count": 149,
   "metadata": {
    "collapsed": true
   },
   "outputs": [],
   "source": [
    "# trainとtestの精度のグラフを出力\n",
    "trainer.extend(extensions.PlotReport(['main/accuracy', 'validation/main/accuracy'],\n",
    "                          'epoch', file_name='accuracy.png'))\n",
    "# trainとtestの損失関数のグラフを出力\n",
    "trainer.extend(extensions.PlotReport(['main/loss', 'validation/main/loss'],\n",
    "                          'epoch', file_name='loss.png'))"
   ]
  },
  {
   "cell_type": "code",
   "execution_count": 150,
   "metadata": {},
   "outputs": [
    {
     "name": "stdout",
     "output_type": "stream",
     "text": [
      "epoch       main/loss   main/accuracy  validation/main/loss  validation/main/accuracy\n",
      "\u001b[J1           1.05803     0.684467       0.683416              0.7692                    \n",
      "\u001b[J2           0.589372    0.799433       0.563817              0.8004                    \n",
      "\u001b[J3           0.510544    0.822517       0.503077              0.8251                    \n",
      "\u001b[J4           0.472658    0.834783       0.474333              0.834                     \n",
      "\u001b[J5           0.450711    0.842567       0.464966              0.8372                    \n",
      "\u001b[J6           0.43217     0.84935        0.443449              0.8419                    \n",
      "\u001b[J7           0.41798     0.854033       0.442864              0.8449                    \n",
      "\u001b[J8           0.404411    0.857683       0.429219              0.8472                    \n",
      "\u001b[J9           0.39403     0.861717       0.421294              0.8525                    \n",
      "\u001b[J10          0.382914    0.8654         0.415031              0.852                     \n",
      "\u001b[J11          0.375589    0.86755        0.408653              0.8535                    \n",
      "\u001b[J12          0.367938    0.87095        0.420523              0.8485                    \n",
      "\u001b[J13          0.359697    0.87315        0.406748              0.8543                    \n",
      "\u001b[J14          0.355304    0.875183       0.423331              0.8452                    \n",
      "\u001b[J15          0.347344    0.877717       0.398692              0.8576                    \n",
      "\u001b[J16          0.34158     0.879517       0.397363              0.8585                    \n",
      "\u001b[J17          0.335542    0.881733       0.386032              0.8599                    \n",
      "\u001b[J18          0.331032    0.88215        0.370679              0.8679                    \n",
      "\u001b[J19          0.325204    0.8846         0.381734              0.8619                    \n",
      "\u001b[J20          0.320256    0.886217       0.369302              0.8677                    \n"
     ]
    }
   ],
   "source": [
    "trainer.run()"
   ]
  },
  {
   "cell_type": "code",
   "execution_count": 151,
   "metadata": {
    "collapsed": true
   },
   "outputs": [],
   "source": [
    "from pylab import box\n",
    "def show_graph(src):\n",
    "    img =  plt.imread(src)\n",
    "    xpixels,ypixels = img.shape[0],img.shape[1]\n",
    "    dpi = 100\n",
    "    margin = 0.01\n",
    "    figsize = (1 + margin) * ypixels / dpi, (1 + margin) * xpixels / dpi\n",
    "\n",
    "    fig = plt.figure(figsize=figsize, dpi=dpi)\n",
    "    ax = fig.add_axes([margin, margin, 1 - 2*margin, 1 - 2*margin])\n",
    "    ax.tick_params(labelbottom=\"off\",bottom=\"off\")\n",
    "    ax.tick_params(labelleft=\"off\",left=\"off\")\n",
    "\n",
    "    ax.imshow(img, interpolation='none')\n",
    "    box(\"off\")\n",
    "    plt.show()"
   ]
  },
  {
   "cell_type": "code",
   "execution_count": 152,
   "metadata": {},
   "outputs": [
    {
     "data": {
      "image/png": "[encoded data removed]",
      "text/plain": [
       "<matplotlib.figure.Figure at 0x121068ac8>"
      ]
     },
     "metadata": {},
     "output_type": "display_data"
    },
    {
     "data": {
      "image/png": "[encoded data removed]",
      "text/plain": [
       "<matplotlib.figure.Figure at 0x10f065080>"
      ]
     },
     "metadata": {},
     "output_type": "display_data"
    }
   ],
   "source": [
    "show_graph('result/loss.png')\n",
    "show_graph('result/accuracy.png')"
   ]
  },
  {
   "cell_type": "code",
   "execution_count": null,
   "metadata": {},
   "outputs": [],
   "source": []
  },
  {
   "cell_type": "code",
   "execution_count": null,
   "metadata": {},
   "outputs": [],
   "source": []
  },
  {
   "cell_type": "code",
   "execution_count": null,
   "metadata": {
    "collapsed": true
   },
   "outputs": [],
   "source": []
  },
  {
   "cell_type": "code",
   "execution_count": null,
   "metadata": {
    "collapsed": true
   },
   "outputs": [],
   "source": []
  }
 ],
 "metadata": {
  "kernelspec": {
   "display_name": "Python 3",
   "language": "python",
   "name": "python3"
  },
  "language_info": {
   "codemirror_mode": {
    "name": "ipython",
    "version": 3
   },
   "file_extension": ".py",
   "mimetype": "text/x-python",
   "name": "python",
   "nbconvert_exporter": "python",
   "pygments_lexer": "ipython3",
   "version": "3.6.2"
  }
 },
 "nbformat": 4,
 "nbformat_minor": 2
}
