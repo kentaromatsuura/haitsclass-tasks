{
 "cells": [
  {
   "cell_type": "code",
   "execution_count": 24,
   "metadata": {
    "collapsed": true
   },
   "outputs": [],
   "source": [
    "import numpy as np\n",
    "import pandas as pd\n",
    "import matplotlib.pyplot as plt\n",
    "% matplotlib inline"
   ]
  },
  {
   "cell_type": "code",
   "execution_count": 25,
   "metadata": {
    "collapsed": true
   },
   "outputs": [],
   "source": [
    "from sklearn.datasets import load_boston\n",
    "boston = load_boston()"
   ]
  },
  {
   "cell_type": "code",
   "execution_count": 26,
   "metadata": {},
   "outputs": [
    {
     "data": {
      "text/html": [
       "<div>\n",
       "<style>\n",
       "    .dataframe thead tr:only-child th {\n",
       "        text-align: right;\n",
       "    }\n",
       "\n",
       "    .dataframe thead th {\n",
       "        text-align: left;\n",
       "    }\n",
       "\n",
       "    .dataframe tbody tr th {\n",
       "        vertical-align: top;\n",
       "    }\n",
       "</style>\n",
       "<table border=\"1\" class=\"dataframe\">\n",
       "  <thead>\n",
       "    <tr style=\"text-align: right;\">\n",
       "      <th></th>\n",
       "      <th>CRIM</th>\n",
       "      <th>ZN</th>\n",
       "      <th>INDUS</th>\n",
       "      <th>CHAS</th>\n",
       "      <th>NOX</th>\n",
       "      <th>RM</th>\n",
       "      <th>AGE</th>\n",
       "      <th>DIS</th>\n",
       "      <th>RAD</th>\n",
       "      <th>TAX</th>\n",
       "      <th>PTRATIO</th>\n",
       "      <th>B</th>\n",
       "      <th>LSTAT</th>\n",
       "      <th>MEDV</th>\n",
       "    </tr>\n",
       "  </thead>\n",
       "  <tbody>\n",
       "    <tr>\n",
       "      <th>0</th>\n",
       "      <td>0.00632</td>\n",
       "      <td>18.0</td>\n",
       "      <td>2.31</td>\n",
       "      <td>0.0</td>\n",
       "      <td>0.538</td>\n",
       "      <td>6.575</td>\n",
       "      <td>65.2</td>\n",
       "      <td>4.0900</td>\n",
       "      <td>1.0</td>\n",
       "      <td>296.0</td>\n",
       "      <td>15.3</td>\n",
       "      <td>396.90</td>\n",
       "      <td>4.98</td>\n",
       "      <td>24.0</td>\n",
       "    </tr>\n",
       "    <tr>\n",
       "      <th>1</th>\n",
       "      <td>0.02731</td>\n",
       "      <td>0.0</td>\n",
       "      <td>7.07</td>\n",
       "      <td>0.0</td>\n",
       "      <td>0.469</td>\n",
       "      <td>6.421</td>\n",
       "      <td>78.9</td>\n",
       "      <td>4.9671</td>\n",
       "      <td>2.0</td>\n",
       "      <td>242.0</td>\n",
       "      <td>17.8</td>\n",
       "      <td>396.90</td>\n",
       "      <td>9.14</td>\n",
       "      <td>21.6</td>\n",
       "    </tr>\n",
       "    <tr>\n",
       "      <th>2</th>\n",
       "      <td>0.02729</td>\n",
       "      <td>0.0</td>\n",
       "      <td>7.07</td>\n",
       "      <td>0.0</td>\n",
       "      <td>0.469</td>\n",
       "      <td>7.185</td>\n",
       "      <td>61.1</td>\n",
       "      <td>4.9671</td>\n",
       "      <td>2.0</td>\n",
       "      <td>242.0</td>\n",
       "      <td>17.8</td>\n",
       "      <td>392.83</td>\n",
       "      <td>4.03</td>\n",
       "      <td>34.7</td>\n",
       "    </tr>\n",
       "    <tr>\n",
       "      <th>3</th>\n",
       "      <td>0.03237</td>\n",
       "      <td>0.0</td>\n",
       "      <td>2.18</td>\n",
       "      <td>0.0</td>\n",
       "      <td>0.458</td>\n",
       "      <td>6.998</td>\n",
       "      <td>45.8</td>\n",
       "      <td>6.0622</td>\n",
       "      <td>3.0</td>\n",
       "      <td>222.0</td>\n",
       "      <td>18.7</td>\n",
       "      <td>394.63</td>\n",
       "      <td>2.94</td>\n",
       "      <td>33.4</td>\n",
       "    </tr>\n",
       "    <tr>\n",
       "      <th>4</th>\n",
       "      <td>0.06905</td>\n",
       "      <td>0.0</td>\n",
       "      <td>2.18</td>\n",
       "      <td>0.0</td>\n",
       "      <td>0.458</td>\n",
       "      <td>7.147</td>\n",
       "      <td>54.2</td>\n",
       "      <td>6.0622</td>\n",
       "      <td>3.0</td>\n",
       "      <td>222.0</td>\n",
       "      <td>18.7</td>\n",
       "      <td>396.90</td>\n",
       "      <td>5.33</td>\n",
       "      <td>36.2</td>\n",
       "    </tr>\n",
       "  </tbody>\n",
       "</table>\n",
       "</div>"
      ],
      "text/plain": [
       "      CRIM    ZN  INDUS  CHAS    NOX     RM   AGE     DIS  RAD    TAX  \\\n",
       "0  0.00632  18.0   2.31   0.0  0.538  6.575  65.2  4.0900  1.0  296.0   \n",
       "1  0.02731   0.0   7.07   0.0  0.469  6.421  78.9  4.9671  2.0  242.0   \n",
       "2  0.02729   0.0   7.07   0.0  0.469  7.185  61.1  4.9671  2.0  242.0   \n",
       "3  0.03237   0.0   2.18   0.0  0.458  6.998  45.8  6.0622  3.0  222.0   \n",
       "4  0.06905   0.0   2.18   0.0  0.458  7.147  54.2  6.0622  3.0  222.0   \n",
       "\n",
       "   PTRATIO       B  LSTAT  MEDV  \n",
       "0     15.3  396.90   4.98  24.0  \n",
       "1     17.8  396.90   9.14  21.6  \n",
       "2     17.8  392.83   4.03  34.7  \n",
       "3     18.7  394.63   2.94  33.4  \n",
       "4     18.7  396.90   5.33  36.2  "
      ]
     },
     "execution_count": 26,
     "metadata": {},
     "output_type": "execute_result"
    }
   ],
   "source": [
    "df_data = pd.DataFrame(boston.data, columns=boston.feature_names)\n",
    "df_target = pd.DataFrame(boston.target, columns=['MEDV'])\n",
    "df = pd.concat([df_data, df_target], axis=1)\n",
    "df.head()"
   ]
  },
  {
   "cell_type": "code",
   "execution_count": 37,
   "metadata": {
    "collapsed": true
   },
   "outputs": [],
   "source": [
    "lstat = df.loc[:,[\"LSTAT\"]].values\n",
    "rm = df.loc[:,[\"RM\"]].values\n",
    "y = df.loc[:,[\"MEDV\"]].values"
   ]
  },
  {
   "cell_type": "code",
   "execution_count": 39,
   "metadata": {},
   "outputs": [
    {
     "data": {
      "text/plain": [
       "LinearRegression(copy_X=True, fit_intercept=True, n_jobs=1, normalize=False)"
      ]
     },
     "execution_count": 39,
     "metadata": {},
     "output_type": "execute_result"
    }
   ],
   "source": [
    "from sklearn.model_selection import train_test_split\n",
    "lstat_train, lstat_test, y_train, y_test = train_test_split(lstat, y, test_size = 0.3, random_state = 0)\n",
    "# 線形回帰のモデルを学習させる\n",
    "from sklearn.linear_model import LinearRegression\n",
    "model_lin = LinearRegression()\n",
    "model_lin.fit(lstat_train, y_train)"
   ]
  },
  {
   "cell_type": "code",
   "execution_count": 42,
   "metadata": {},
   "outputs": [
    {
     "data": {
      "image/png": "[encoded data removed]",
      "text/plain": [
       "<matplotlib.figure.Figure at 0x10a239908>"
      ]
     },
     "metadata": {},
     "output_type": "display_data"
    }
   ],
   "source": [
    "plt.scatter(lstat,y,color ='lightgray',label =\"data\")\n",
    "x = np.arange(0,40,1)[:, np.newaxis]\n",
    "plt.plot(x, model_lin.predict(x), color = \"red\", label = \"linear\")\n",
    "plt.xlabel(\"LSTAT\")\n",
    "plt.ylabel(\"MEDV\")\n",
    "plt.legend(loc='upper right')\n",
    "plt.show()"
   ]
  },
  {
   "cell_type": "code",
   "execution_count": 43,
   "metadata": {
    "collapsed": true
   },
   "outputs": [],
   "source": [
    "import numpy as np\n",
    "import matplotlib.pyplot as plt\n",
    "% matplotlib inline"
   ]
  },
  {
   "cell_type": "code",
   "execution_count": 53,
   "metadata": {
    "collapsed": true
   },
   "outputs": [],
   "source": [
    "def cubic(x):\n",
    "    y = 0.0001*(X**3 + X**2 + X+1)\n",
    "    return y\n",
    "\n",
    "np.random.seed(3)\n",
    "X = np.random.normal(0,10,30)\n",
    "y  = cubic(x)\n",
    "y += np.random.normal(0,0.25, len(y))\n",
    "X = X.reshape(-1,1)\n",
    "X_plot = np.arange(-25,25,0.1) \n",
    "y_plot = cubic(X_plot)\n",
    "X_plot = X_plot.reshape(-1,1)"
   ]
  },
  {
   "cell_type": "code",
   "execution_count": 56,
   "metadata": {},
   "outputs": [
    {
     "data": {
      "image/png": "[encoded data removed]",
      "text/plain": [
       "<matplotlib.figure.Figure at 0x1a154e3550>"
      ]
     },
     "metadata": {},
     "output_type": "display_data"
    }
   ],
   "source": [
    "# 適当なデータセットを生成\n",
    "# 中のコードは気にしなくていいので､今回はグラフだけ眺めてください\n",
    "\n",
    "# 適当な三次関数を出力する関数を定義\n",
    "def cubic(X):\n",
    "    y = 0.0001 * (X**3 + X**2 + X + 1)\n",
    "    return y\n",
    "\n",
    "# サンプルデータの生成\n",
    "np.random.seed(3)                         # 乱数生成器の状態を指定\n",
    "X = np.random.normal(0, 10, 30)           # 正規分布に従って30個のデータ点を生成\n",
    "y = cubic(X)                              # 対応するyを三次関数で指定\n",
    "y += np.random.normal(0, 0.25, len(y))    # 正規分布に従うノイズを加える\n",
    "X = X.reshape(-1, 1)                      # sklearnで扱えるように､一行のベクトルに変換\n",
    "\n",
    "# 三次関数をプロットする用のデータを生成\n",
    "X_plot = np.arange(-25, 25, 0.1)          # -25~+25の範囲に､0.1刻みでデータ点を取る\n",
    "y_plot = cubic(X_plot)                    # 対応するyを三次関数で指定\n",
    "X_plot = X_plot.reshape(-1, 1)            # sklearnで扱えるように､一行のベクトルに変換\n",
    "# グラフを描画\n",
    "plt.scatter(X, y)                         # データ点をプロット\n",
    "plt.plot(X_plot, y_plot, color='gray')    # もととなる三次関数を描画\n",
    "plt.ylim([-1.6, 1.6])                     # 縦の表示範囲を指定\n",
    "plt.show() "
   ]
  },
  {
   "cell_type": "code",
   "execution_count": 59,
   "metadata": {
    "collapsed": true
   },
   "outputs": [],
   "source": [
    "from sklearn.linear_model import LinearRegression\n",
    "from sklearn.preprocessing import PolynomialFeatures"
   ]
  },
  {
   "cell_type": "code",
   "execution_count": 60,
   "metadata": {
    "collapsed": true
   },
   "outputs": [],
   "source": [
    "Ir = LinearRegression()"
   ]
  },
  {
   "cell_type": "code",
   "execution_count": 62,
   "metadata": {},
   "outputs": [
    {
     "data": {
      "text/plain": [
       "LinearRegression(copy_X=True, fit_intercept=True, n_jobs=1, normalize=False)"
      ]
     },
     "execution_count": 62,
     "metadata": {},
     "output_type": "execute_result"
    }
   ],
   "source": [
    "pol = PolynomialFeatures(degree =7)\n",
    "X_pol = pol.fit_transform(X)\n",
    "Ir.fit (X_pol,y)"
   ]
  },
  {
   "cell_type": "code",
   "execution_count": 63,
   "metadata": {
    "collapsed": true
   },
   "outputs": [],
   "source": [
    "X_plot_pol = pol.fit_transform(X_plot)\n",
    "y_plot_pol = Ir.predict(X_plot_pol)"
   ]
  },
  {
   "cell_type": "code",
   "execution_count": 64,
   "metadata": {},
   "outputs": [
    {
     "data": {
      "image/png": "[encoded data removed]",
      "text/plain": [
       "<matplotlib.figure.Figure at 0x1a15488d68>"
      ]
     },
     "metadata": {},
     "output_type": "display_data"
    }
   ],
   "source": [
    "plt.scatter(X, y)                                    # データ点をプロット\n",
    "plt.plot(X_plot, y_plot, color='gray')               # もととなる三次関数を描画\n",
    "plt.plot(X_plot, y_plot_pol, color='green')          # 通常の多項式回帰のモデルを描画\n",
    "plt.ylim([-1.6, 1.6])                                # 縦の表示範囲を指定\n",
    "plt.show() "
   ]
  },
  {
   "cell_type": "code",
   "execution_count": 65,
   "metadata": {},
   "outputs": [
    {
     "data": {
      "text/plain": [
       "Ridge(alpha=1000, copy_X=True, fit_intercept=True, max_iter=None,\n",
       "   normalize=False, random_state=None, solver='auto', tol=0.001)"
      ]
     },
     "execution_count": 65,
     "metadata": {},
     "output_type": "execute_result"
    }
   ],
   "source": [
    "from sklearn.linear_model import Ridge\n",
    "model_ridge = Ridge (alpha = 1000)\n",
    "model_ridge.fit(X_pol,y)"
   ]
  },
  {
   "cell_type": "code",
   "execution_count": 66,
   "metadata": {},
   "outputs": [
    {
     "data": {
      "image/png": "[encoded data removed]",
      "text/plain": [
       "<matplotlib.figure.Figure at 0x1a1537e898>"
      ]
     },
     "metadata": {},
     "output_type": "display_data"
    }
   ],
   "source": [
    "plt.scatter(X, y)                                              # データ点をプロット\n",
    "plt.plot(X_plot, y_plot, color='gray')                         # もととなる三次関数を描画\n",
    "plt.plot(X_plot, model_ridge.predict(X_plot_pol), color='red') # Ridge回帰によるモデルを描画\n",
    "plt.plot(X_plot, y_plot_pol, color='green')                    # 通常の多項式回帰のモデルを描画\n",
    "plt.ylim([-1.6, 1.6])                                          # 縦の表示範囲を指定\n",
    "plt.show()     "
   ]
  },
  {
   "cell_type": "code",
   "execution_count": 67,
   "metadata": {},
   "outputs": [
    {
     "data": {
      "text/plain": [
       "array([  0.00000000e+00,   8.65504973e-02,   4.11571234e-04,\n",
       "        -1.64948411e-03,  -4.05575048e-06,   9.48940782e-06,\n",
       "         5.18992808e-09,  -1.49851211e-08])"
      ]
     },
     "execution_count": 67,
     "metadata": {},
     "output_type": "execute_result"
    }
   ],
   "source": [
    "Ir.coef_"
   ]
  },
  {
   "cell_type": "code",
   "execution_count": 68,
   "metadata": {},
   "outputs": [
    {
     "data": {
      "text/plain": [
       "array([  0.00000000e+00,   6.00178293e-03,   1.35634933e-03,\n",
       "         1.14754021e-06,  -5.17185214e-06,   4.16096324e-07,\n",
       "         5.24302212e-09,  -4.29044302e-10])"
      ]
     },
     "execution_count": 68,
     "metadata": {},
     "output_type": "execute_result"
    }
   ],
   "source": [
    "model_ridge.coef_"
   ]
  },
  {
   "cell_type": "code",
   "execution_count": 69,
   "metadata": {},
   "outputs": [
    {
     "data": {
      "text/plain": [
       "0.086567192885011676"
      ]
     },
     "execution_count": 69,
     "metadata": {},
     "output_type": "execute_result"
    }
   ],
   "source": [
    "from numpy import linalg as LA\n",
    "LA.norm(Ir.coef_)"
   ]
  },
  {
   "cell_type": "code",
   "execution_count": 70,
   "metadata": {},
   "outputs": [
    {
     "data": {
      "text/plain": [
       "0.0061531382276878762"
      ]
     },
     "execution_count": 70,
     "metadata": {},
     "output_type": "execute_result"
    }
   ],
   "source": [
    "LA.norm(model_ridge.coef_)"
   ]
  },
  {
   "cell_type": "code",
   "execution_count": 71,
   "metadata": {},
   "outputs": [
    {
     "data": {
      "text/plain": [
       "Lasso(alpha=1000, copy_X=True, fit_intercept=True, max_iter=1000,\n",
       "   normalize=False, positive=False, precompute=False, random_state=None,\n",
       "   selection='cyclic', tol=0.0001, warm_start=False)"
      ]
     },
     "execution_count": 71,
     "metadata": {},
     "output_type": "execute_result"
    }
   ],
   "source": [
    "from sklearn.linear_model import Lasso\n",
    "model_lasso = Lasso(alpha = 1000)\n",
    "model_lasso.fit(X_pol,y)"
   ]
  },
  {
   "cell_type": "code",
   "execution_count": 72,
   "metadata": {},
   "outputs": [
    {
     "data": {
      "image/png": "[encoded data removed]",
      "text/plain": [
       "<matplotlib.figure.Figure at 0x10746c828>"
      ]
     },
     "metadata": {},
     "output_type": "display_data"
    }
   ],
   "source": [
    "plt.scatter(X, y)                                              # データ点をプロット\n",
    "plt.plot(X_plot, y_plot, color='gray')                         # もととなる三次関数を描画\n",
    "plt.plot(X_plot, y_plot_pol, color='green')                    # 通常の多項式回帰によるモデルを描画\n",
    "plt.plot(X_plot, model_lasso.predict(X_plot_pol), color='red') # LASSO回帰によるモデルを描画\n",
    "plt.ylim([-1.6, 1.6])                                          # 縦の表示範囲を指定\n",
    "plt.show()          "
   ]
  },
  {
   "cell_type": "code",
   "execution_count": 73,
   "metadata": {},
   "outputs": [
    {
     "data": {
      "text/plain": [
       "array([  0.00000000e+00,   8.65504973e-02,   4.11571234e-04,\n",
       "        -1.64948411e-03,  -4.05575048e-06,   9.48940782e-06,\n",
       "         5.18992808e-09,  -1.49851211e-08])"
      ]
     },
     "execution_count": 73,
     "metadata": {},
     "output_type": "execute_result"
    }
   ],
   "source": [
    "Ir.coef_"
   ]
  },
  {
   "cell_type": "markdown",
   "metadata": {},
   "source": []
  },
  {
   "cell_type": "code",
   "execution_count": 74,
   "metadata": {},
   "outputs": [
    {
     "data": {
      "text/plain": [
       "array([  0.00000000e+00,   0.00000000e+00,   0.00000000e+00,\n",
       "         0.00000000e+00,   0.00000000e+00,   4.84889999e-07,\n",
       "         2.03058492e-09,  -4.20064051e-10])"
      ]
     },
     "execution_count": 74,
     "metadata": {},
     "output_type": "execute_result"
    }
   ],
   "source": [
    "model_lasso.coef_"
   ]
  },
  {
   "cell_type": "code",
   "execution_count": 79,
   "metadata": {},
   "outputs": [
    {
     "ename": "NameError",
     "evalue": "name 'lr' is not defined",
     "output_type": "error",
     "traceback": [
      "\u001b[0;31m---------------------------------------------------------------------------\u001b[0m",
      "\u001b[0;31mNameError\u001b[0m                                 Traceback (most recent call last)",
      "\u001b[0;32m<ipython-input-79-ca40e7a9946a>\u001b[0m in \u001b[0;36m<module>\u001b[0;34m()\u001b[0m\n\u001b[1;32m      1\u001b[0m \u001b[0;32mfrom\u001b[0m \u001b[0mnumpy\u001b[0m \u001b[0;32mimport\u001b[0m \u001b[0mlinalg\u001b[0m \u001b[0;32mas\u001b[0m \u001b[0mLA\u001b[0m\u001b[0;34m\u001b[0m\u001b[0m\n\u001b[0;32m----> 2\u001b[0;31m \u001b[0mLA\u001b[0m\u001b[0;34m.\u001b[0m\u001b[0mnorm\u001b[0m\u001b[0;34m(\u001b[0m\u001b[0mlr\u001b[0m\u001b[0;34m.\u001b[0m\u001b[0mcoef_\u001b[0m\u001b[0;34m,\u001b[0m \u001b[0mord\u001b[0m\u001b[0;34m=\u001b[0m\u001b[0;36m1\u001b[0m\u001b[0;34m)\u001b[0m\u001b[0;34m\u001b[0m\u001b[0m\n\u001b[0m",
      "\u001b[0;31mNameError\u001b[0m: name 'lr' is not defined"
     ]
    }
   ],
   "source": [
    "from numpy import linalg as LA\n",
    "LA.norm(lr.coef_, ord=1)"
   ]
  },
  {
   "cell_type": "code",
   "execution_count": 80,
   "metadata": {},
   "outputs": [
    {
     "data": {
      "text/plain": [
       "4.8734064792308564e-07"
      ]
     },
     "execution_count": 80,
     "metadata": {},
     "output_type": "execute_result"
    }
   ],
   "source": [
    "LA.norm(model_lasso.coef_, ord=1)"
   ]
  },
  {
   "cell_type": "code",
   "execution_count": 84,
   "metadata": {
    "collapsed": true
   },
   "outputs": [],
   "source": [
    "def left_join(phrases):\n",
    "    if \"right\" in phrases:\n",
    "        phrases.replace(\"right\" , \"left\")\n",
    "        return \",\".join(phrases)\n",
    "    else:\n",
    "        return \",\".join(phrases)\n",
    "    \"\"\"\n",
    "        Join strings and replace \"right\" to \"left\"\n",
    "    \"\"\""
   ]
  },
  {
   "cell_type": "code",
   "execution_count": 85,
   "metadata": {},
   "outputs": [
    {
     "data": {
      "text/plain": [
       "'r,i,g,h,t'"
      ]
     },
     "execution_count": 85,
     "metadata": {},
     "output_type": "execute_result"
    }
   ],
   "source": [
    "left_join(\"right\")"
   ]
  },
  {
   "cell_type": "code",
   "execution_count": 86,
   "metadata": {},
   "outputs": [
    {
     "name": "stdout",
     "output_type": "stream",
     "text": [
      "Collecting chainer==2.0\n",
      "  Downloading chainer-2.0.0.tar.gz (318kB)\n",
      "\u001b[K    100% |████████████████████████████████| 327kB 1.8MB/s ta 0:00:01\n",
      "\u001b[?25hRequirement already up-to-date: filelock in /Users/matuura/.pyenv/versions/anaconda3-5.0.0/lib/python3.6/site-packages (from chainer==2.0)\n",
      "Requirement already up-to-date: nose in /Users/matuura/.pyenv/versions/anaconda3-5.0.0/lib/python3.6/site-packages (from chainer==2.0)\n",
      "Collecting numpy>=1.9.0 (from chainer==2.0)\n",
      "  Downloading numpy-1.13.3-cp36-cp36m-macosx_10_6_intel.macosx_10_9_intel.macosx_10_9_x86_64.macosx_10_10_intel.macosx_10_10_x86_64.whl (4.5MB)\n",
      "\u001b[K    100% |████████████████████████████████| 4.6MB 265kB/s eta 0:00:01\n",
      "\u001b[?25hCollecting protobuf>=2.6.0 (from chainer==2.0)\n",
      "  Downloading protobuf-3.4.0-py2.py3-none-any.whl (375kB)\n",
      "\u001b[K    100% |████████████████████████████████| 378kB 893kB/s ta 0:00:011\n",
      "\u001b[?25hCollecting six>=1.9.0 (from chainer==2.0)\n",
      "  Downloading six-1.11.0-py2.py3-none-any.whl\n",
      "Collecting setuptools (from protobuf>=2.6.0->chainer==2.0)\n",
      "  Downloading setuptools-36.6.0-py2.py3-none-any.whl (481kB)\n",
      "\u001b[K    100% |████████████████████████████████| 481kB 2.0MB/s eta 0:00:01\n",
      "\u001b[?25hBuilding wheels for collected packages: chainer\n",
      "  Running setup.py bdist_wheel for chainer ... \u001b[?25ldone\n",
      "\u001b[?25h  Stored in directory: /Users/matuura/Library/Caches/pip/wheels/89/56/eb/e821cea4cd834b24428e29eb9b62e0c0c27c2fc6c987995ffc\n",
      "Successfully built chainer\n",
      "Installing collected packages: numpy, six, setuptools, protobuf, chainer\n",
      "  Found existing installation: numpy 1.13.1\n",
      "    Uninstalling numpy-1.13.1:\n",
      "      Successfully uninstalled numpy-1.13.1\n",
      "  Found existing installation: six 1.10.0\n",
      "    Uninstalling six-1.10.0:\n",
      "      Successfully uninstalled six-1.10.0\n",
      "  Found existing installation: setuptools 36.5.0.post20170921\n",
      "    Uninstalling setuptools-36.5.0.post20170921:\n",
      "      Successfully uninstalled setuptools-36.5.0.post20170921\n",
      "Successfully installed chainer-2.0.0 numpy-1.13.3 protobuf-3.4.0 setuptools-36.6.0 six-1.11.0\n"
     ]
    }
   ],
   "source": [
    "! pip install -U chainer==2.0"
   ]
  },
  {
   "cell_type": "code",
   "execution_count": 87,
   "metadata": {
    "collapsed": true
   },
   "outputs": [],
   "source": [
    "import numpy as np\n",
    "import matplotlib.pyplot as plt\n",
    "% matplotlib inline\n",
    "\n",
    "import chainer\n",
    "import chainer.functions as F           # パラメータを含まない関数を収録したパッケージ\n",
    "import chainer.links as L               # パラメータを含む関数を収録したパッケージ\n",
    "from chainer import serializers "
   ]
  },
  {
   "cell_type": "code",
   "execution_count": 161,
   "metadata": {},
   "outputs": [],
   "source": [
    "def tangodigram(phrases):\n",
    "    jj = phrases.split(\" \")\n",
    "    ff = \"\".join(jj)\n",
    "    for i in range(len(ff)-1):\n",
    "        print(ff[i]+ff[i+1])"
   ]
  },
  {
   "cell_type": "code",
   "execution_count": 162,
   "metadata": {},
   "outputs": [
    {
     "name": "stdout",
     "output_type": "stream",
     "text": [
      "Ia\n",
      "am\n",
      "ma\n",
      "an\n",
      "nN\n",
      "NL\n",
      "LP\n",
      "Pe\n",
      "er\n"
     ]
    }
   ],
   "source": [
    "tangodigram(\"I am an NLPer\")"
   ]
  },
  {
   "cell_type": "code",
   "execution_count": 293,
   "metadata": {},
   "outputs": [],
   "source": [
    "def mojidigram(phrases,X):\n",
    "    X=[]\n",
    "    for i in range(len(phrases)-1):\n",
    "        X.append(phrases[i]+phrases[i+1])\n",
    "    return X"
   ]
  },
  {
   "cell_type": "code",
   "execution_count": 314,
   "metadata": {},
   "outputs": [
    {
     "name": "stdout",
     "output_type": "stream",
     "text": [
      "['pa', 'ar', 'ra', 'ap', 'pa', 'ar', 'ra', 'ap', 'pa', 'ar', 'ra', 'ad', 'di', 'is', 'se']\n"
     ]
    },
    {
     "data": {
      "text/plain": [
       "True"
      ]
     },
     "execution_count": 314,
     "metadata": {},
     "output_type": "execute_result"
    }
   ],
   "source": [
    "mojidigram(\"paraparaparadise\",XX)\n",
    "print(XX)\n",
    "\"se\"  in XX"
   ]
  },
  {
   "cell_type": "code",
   "execution_count": 311,
   "metadata": {},
   "outputs": [
    {
     "name": "stdout",
     "output_type": "stream",
     "text": [
      "['pa', 'ar', 'ra', 'ag', 'gr', 'ra', 'ap', 'ph']\n"
     ]
    },
    {
     "data": {
      "text/plain": [
       "False"
      ]
     },
     "execution_count": 311,
     "metadata": {},
     "output_type": "execute_result"
    }
   ],
   "source": [
    "Y=mojidigram(\"paragraph\",Y)\n",
    "print(Y)\n",
    "\"se\" in Y"
   ]
  },
  {
   "cell_type": "code",
   "execution_count": 304,
   "metadata": {},
   "outputs": [],
   "source": [
    "XX_set = set(XX)\n",
    "Y_set = set(Y)"
   ]
  },
  {
   "cell_type": "code",
   "execution_count": 307,
   "metadata": {},
   "outputs": [
    {
     "data": {
      "text/plain": [
       "{'ap', 'ar', 'pa', 'ra'}"
      ]
     },
     "execution_count": 307,
     "metadata": {},
     "output_type": "execute_result"
    }
   ],
   "source": [
    "XX_set & Y_set"
   ]
  },
  {
   "cell_type": "code",
   "execution_count": 308,
   "metadata": {},
   "outputs": [
    {
     "data": {
      "text/plain": [
       "{'ad', 'ag', 'ap', 'ar', 'di', 'gr', 'is', 'pa', 'ph', 'ra', 'se'}"
      ]
     },
     "execution_count": 308,
     "metadata": {},
     "output_type": "execute_result"
    }
   ],
   "source": [
    "XX_set | Y_set"
   ]
  },
  {
   "cell_type": "code",
   "execution_count": 119,
   "metadata": {},
   "outputs": [
    {
     "data": {
      "text/plain": [
       "13"
      ]
     },
     "execution_count": 119,
     "metadata": {},
     "output_type": "execute_result"
    }
   ],
   "source": [
    "phrases = \"I am an NLPer\"\n",
    "len(phrases)"
   ]
  },
  {
   "cell_type": "code",
   "execution_count": null,
   "metadata": {
    "collapsed": true
   },
   "outputs": [],
   "source": []
  },
  {
   "cell_type": "code",
   "execution_count": 328,
   "metadata": {},
   "outputs": [],
   "source": [
    "def aaa(x,y,z):\n",
    "    print(\"{}時の{}は{}\".format(x,y,z))"
   ]
  },
  {
   "cell_type": "code",
   "execution_count": 329,
   "metadata": {},
   "outputs": [
    {
     "name": "stdout",
     "output_type": "stream",
     "text": [
      "24時の気温は22.4\n"
     ]
    }
   ],
   "source": [
    "aaa(24,\"気温\",22.4)"
   ]
  },
  {
   "cell_type": "code",
   "execution_count": 327,
   "metadata": {},
   "outputs": [
    {
     "name": "stdout",
     "output_type": "stream",
     "text": [
      "Ia\n"
     ]
    }
   ],
   "source": [
    "jj = phrases.split(\" \")\n",
    "ff = \"\".join(jj)\n",
    "print(ff[0]+ff[1])\n"
   ]
  },
  {
   "cell_type": "code",
   "execution_count": 330,
   "metadata": {
    "collapsed": true
   },
   "outputs": [],
   "source": [
    "def cipher (sentense):\n",
    "    # 変数を用意\n",
    "    sentenseList = []\n",
    "    result = ''\n",
    "\n",
    "    for i in range (0, len(sentense)):\n",
    "        # i番目の文字が小文字の場合\n",
    "        if sentense[i].islower():\n",
    "            # リストのi番目にアスキーコード(219-アスキーコード)に対応する文字を挿入\n",
    "            sentenseList.insert(i, chr(219-ord(sentense[i])))\n",
    "        # i番目の文字が小文字ではない場合そのままリストに挿入\n",
    "        else:\n",
    "            sentenseList.insert(i, sentense[i])\n",
    "                \n",
    "    # リストを文字列に戻す\n",
    "    for ii in range (0, len(sentense)):\n",
    "        result += sentenseList[ii]\n",
    "        \n",
    "    #文字列を返す\n",
    "    return result\n",
    "        "
   ]
  },
  {
   "cell_type": "code",
   "execution_count": 332,
   "metadata": {},
   "outputs": [
    {
     "data": {
      "text/plain": [
       "'I zn Emtrmvvi'"
      ]
     },
     "execution_count": 332,
     "metadata": {},
     "output_type": "execute_result"
    }
   ],
   "source": [
    "cipher (\"I am Engineer\")"
   ]
  },
  {
   "cell_type": "code",
   "execution_count": 459,
   "metadata": {},
   "outputs": [],
   "source": [
    "import random\n",
    "def iyu (sentence1):\n",
    "    sentenceList = []\n",
    "    result = ''\n",
    "    we = sentence1.split(\" \")\n",
    "    for i in range (len(we)):\n",
    "        if len(we[i])>4:\n",
    "            wee = we[i][1:-1]\n",
    "            aaa = list(wee)\n",
    "            bbb=random.sample(aaa,len(aaa))\n",
    "            bbb.insert(0,we[i][0])\n",
    "            bbb.insert(-1,we[i][-1])\n",
    "            s=\"\".join(bbb)\n",
    "            sentenceList.insert(i, s)\n",
    "        else:\n",
    "            sentenceList.insert(i,we[i])\n",
    "    for ii in range (len(we)):\n",
    "        result += sentenceList[ii]\n",
    "        \n",
    "    #文字列を返す\n",
    "    return result"
   ]
  },
  {
   "cell_type": "code",
   "execution_count": 460,
   "metadata": {},
   "outputs": [
    {
     "data": {
      "text/plain": [
       "\"Icdnol'tubievleethatIcuodlalatulycuaenrntsddwhatIwasrineagd:thepehomnanlepoerwofthehmunamind.\""
      ]
     },
     "execution_count": 460,
     "metadata": {},
     "output_type": "execute_result"
    }
   ],
   "source": [
    "iyu(\"I couldn't believe that I could actually understand what I was reading : the phenomenal power of the human mind .\")"
   ]
  },
  {
   "cell_type": "code",
   "execution_count": 458,
   "metadata": {},
   "outputs": [
    {
     "name": "stdout",
     "output_type": "stream",
     "text": [
      "['e', 'l', 'i', 'e', 'v']\n",
      "5\n"
     ]
    }
   ],
   "source": [
    "sentence2=\"I couldn't believe that I could actually understand what I was reading : the phenomenal power of the human mind .\"\n",
    "we = sentence2.split(\" \")\n",
    "len(we[2])\n",
    "wee = we[2][1:-1]\n",
    "aaa = list(wee)\n",
    "print(aaa)\n",
    "print(len(aaa))\n",
    "bbb=random.sample(aaa,len(aaa))\n",
    "bbb\n",
    "bbb.insert(0,we[2][0])\n",
    "bbb.insert(-1,we[2][-1])"
   ]
  },
  {
   "cell_type": "code",
   "execution_count": 440,
   "metadata": {},
   "outputs": [
    {
     "data": {
      "text/plain": [
       "list"
      ]
     },
     "execution_count": 440,
     "metadata": {},
     "output_type": "execute_result"
    }
   ],
   "source": [
    "type(bbb)"
   ]
  },
  {
   "cell_type": "code",
   "execution_count": 456,
   "metadata": {},
   "outputs": [],
   "source": [
    "u=bbb.insert(-1,we[2][-1])\n",
    "u"
   ]
  },
  {
   "cell_type": "code",
   "execution_count": null,
   "metadata": {
    "collapsed": true
   },
   "outputs": [],
   "source": []
  }
 ],
 "metadata": {
  "kernelspec": {
   "display_name": "Python 3",
   "language": "python",
   "name": "python3"
  },
  "language_info": {
   "codemirror_mode": {
    "name": "ipython",
    "version": 3
   },
   "file_extension": ".py",
   "mimetype": "text/x-python",
   "name": "python",
   "nbconvert_exporter": "python",
   "pygments_lexer": "ipython3",
   "version": "3.6.2"
  }
 },
 "nbformat": 4,
 "nbformat_minor": 2
}
